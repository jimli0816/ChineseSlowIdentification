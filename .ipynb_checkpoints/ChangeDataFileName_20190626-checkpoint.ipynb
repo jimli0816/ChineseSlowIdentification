{
 "cells": [
  {
   "cell_type": "code",
   "execution_count": 1,
   "metadata": {
    "scrolled": true
   },
   "outputs": [],
   "source": [
    "import os\n",
    "\n",
    "def batch_rename(path):\n",
    "    count = 0\n",
    "    for fname in os.listdir(path):\n",
    "        #print(path)\n",
    "        new_fname = \"Slow_\"+str(count)+\".jpg\"\n",
    "        print (os.path.join(path, fname)+'  =>  '+os.path.join(path, new_fname))\n",
    "        os.rename(os.path.join(path, fname), os.path.join(path, new_fname))\n",
    "        count = count + 1     "
   ]
  },
  {
   "cell_type": "code",
   "execution_count": 2,
   "metadata": {},
   "outputs": [
    {
     "ename": "SyntaxError",
     "evalue": "(unicode error) 'unicodeescape' codec can't decode bytes in position 2-3: truncated \\UXXXXXXXX escape (<ipython-input-2-3b9cec743ec9>, line 1)",
     "output_type": "error",
     "traceback": [
      "\u001b[1;36m  File \u001b[1;32m\"<ipython-input-2-3b9cec743ec9>\"\u001b[1;36m, line \u001b[1;32m1\u001b[0m\n\u001b[1;33m    batch_rename(\"C:\\Users\\shihchin\\Desktop\\Deep Learning Open-Source from Internet\\Chinese Slow Identification\\image-classification-keras\\images\\object\")\u001b[0m\n\u001b[1;37m                ^\u001b[0m\n\u001b[1;31mSyntaxError\u001b[0m\u001b[1;31m:\u001b[0m (unicode error) 'unicodeescape' codec can't decode bytes in position 2-3: truncated \\UXXXXXXXX escape\n"
     ]
    }
   ],
   "source": [
    "batch_rename(\"C:\\Users\\shihchin\\Desktop\\Deep Learning Open-Source from Internet\\Chinese Slow Identification\\image-classification-keras\\images\\object\")"
   ]
  },
  {
   "cell_type": "code",
   "execution_count": null,
   "metadata": {},
   "outputs": [],
   "source": []
  },
  {
   "cell_type": "code",
   "execution_count": null,
   "metadata": {},
   "outputs": [],
   "source": []
  },
  {
   "cell_type": "code",
   "execution_count": null,
   "metadata": {},
   "outputs": [],
   "source": []
  }
 ],
 "metadata": {
  "kernelspec": {
   "display_name": "Python 3",
   "language": "python",
   "name": "python3"
  },
  "language_info": {
   "codemirror_mode": {
    "name": "ipython",
    "version": 3
   },
   "file_extension": ".py",
   "mimetype": "text/x-python",
   "name": "python",
   "nbconvert_exporter": "python",
   "pygments_lexer": "ipython3",
   "version": "3.5.5"
  }
 },
 "nbformat": 4,
 "nbformat_minor": 2
}
